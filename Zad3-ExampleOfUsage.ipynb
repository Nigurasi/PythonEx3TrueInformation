{
 "cells": [
  {
   "cell_type": "markdown",
   "metadata": {},
   "source": [
    "Przykład zastosowania implementacji zad3"
   ]
  },
  {
   "cell_type": "code",
   "execution_count": 2,
   "metadata": {
    "collapsed": true
   },
   "outputs": [],
   "source": [
    "import zad3Nigurasi"
   ]
  },
  {
   "cell_type": "code",
   "execution_count": 3,
   "metadata": {
    "collapsed": false
   },
   "outputs": [
    {
     "name": "stdout",
     "output_type": "stream",
     "text": [
      "If you want to use this as normal program, just run Main.py\n",
      "Namespace(action='checkBoth', data='Mark Twain birthdaya = 1880', path_name='./zad3Nigurasi', type_data='equation')\n",
      "Connection checked.\n",
      "Destructor for Logger\n",
      "Everything wrote in logger.\n",
      "\n"
     ]
    }
   ],
   "source": [
    "zad3Nigurasi.get_information(\"checkBoth\", \"equation\", \"Mark Twain birthdaya = 1880\", \"./zad3Nigurasi\")"
   ]
  },
  {
   "cell_type": "markdown",
   "metadata": {},
   "source": [
    "W jupyterze można wyświetlić stworzony plik:"
   ]
  },
  {
   "cell_type": "code",
   "execution_count": 4,
   "metadata": {
    "collapsed": false
   },
   "outputs": [
    {
     "name": "stdout",
     "output_type": "stream",
     "text": [
      "<2017-06-05 14:32:50>: Programme started with arguments:\n",
      "    action = checkBoth\n",
      "    typeData = equation\n",
      "    data = Mark Twain birthdaya = 1880\n",
      "    pathFile = ./zad3Nigurasi\n",
      "<2017-06-05 14:32:50>: Connection checked.\n",
      "<2017-06-05 14:32:50>: Found the list with name: ./Lists/TrustyList.txt\n",
      "<2017-06-05 14:32:50>: Found the list with name: ./Lists/NotTrustyList.txt\n",
      "<2017-06-05 14:32:50>: Generate all combinations for these tags. :\n",
      "    [('1880',)]\n",
      "<2017-06-05 14:32:50>: Generate all combinations for these tags. :\n",
      "    [('Mark',), ('Twain',), ('birthdaya',), ('Mark', 'Twain'), ('Mark', 'birthdaya'), ('Twain', 'Mark'), ('Twain', 'birthdaya'), ('birthdaya', 'Mark'), ('birthdaya', 'Twain'), ('Mark', 'Twain', 'birthdaya'), ('Mark', 'birthdaya', 'Twain'), ('Twain', 'Mark', 'birthdaya'), ('Twain', 'birthdaya', 'Mark'), ('birthdaya', 'Mark', 'Twain'), ('birthdaya', 'Twain', 'Mark')]\n",
      "<2017-06-05 14:32:51>: <ApiCheckWikipedia>  CHANGED FROM: Mark  TO: Mark \n",
      "TEXT: Mark may refer to:\n",
      "Mark (name), a male given name\n",
      "Mark (surname), notable people with the surname or family name\n",
      "<2017-06-05 14:32:51>: <ApiCheckWikipedia>  CHANGED FROM: Twain  TO: Twain \n",
      "TEXT: Twain may refer to:\n",
      "<2017-06-05 14:32:52>: <ApiCheckWikipedia>  CHANGED FROM: Mark Twain  TO: Mark Twain \n",
      "TEXT: Samuel Langhorne Clemens (November 30, 1835 – April 21, 1910), better known by his pen name Mark Twain, was an American writer, humorist, entrepreneur, publisher, and lecturer. Among his novels are The Adventures of Tom Sawyer (1876) and its sequel, the Adventures of Huckleberry Finn (1885), the latter often called \"The Great American Novel\".\n",
      "Twain was raised in Hannibal, Missouri, which later provided the setting for Tom Sawyer and Huckleberry Finn. He served an apprenticeship with a printer and then worked as a typesetter, contributing articles to the newspaper of his older brother Orion Clemens. He later became a riverboat pilot on the Mississippi River before heading west to join Orion in Nevada. He referred humorously to his lack of success at mining, turning to journalism for the Virginia City Territorial Enterprise. His humorous story, \"The Celebrated Jumping Frog of Calaveras County\", was published in 1865, based on a story that he heard at Angels Hotel in Angels Camp, California where he had spent some time as a miner. The short story brought international attention and was even translated into classic Greek. His wit and satire, in prose and in speech, earned praise from critics and peers, and he was a friend to presidents, artists, industrialists, and European royalty.\n",
      "Twain earned a great deal of money from his writings and lectures, but he invested in ventures that lost most of it—notably the Paige Compositor, a mechanical typesetter that failed because of its complexity and imprecision. He filed for bankruptcy in the wake of these financial setbacks, but he eventually overcame his financial troubles with the help of Henry Huttleston Rogers. He chose to pay all his pre-bankruptcy creditors in full, even after he had no legal responsibility to do so.\n",
      "Twain was born shortly after an appearance of Halley's Comet, and he predicted that he would \"go out with it\" as well; he died the day after the comet returned. He was lauded as the \"greatest American humorist of his age\", and William Faulkner called him \"the father of American literature\".\n",
      "<2017-06-05 14:32:56>: <ApiCheckWikipedia>  Invalid combinations: [('birthdaya',), ('Mark', 'birthdaya'), ('Twain', 'Mark'), ('Twain', 'birthdaya'), ('birthdaya', 'Mark'), ('birthdaya', 'Twain'), ('Mark', 'Twain', 'birthdaya'), ('Mark', 'birthdaya', 'Twain'), ('Twain', 'Mark', 'birthdaya'), ('Twain', 'birthdaya', 'Mark'), ('birthdaya', 'Mark', 'Twain'), ('birthdaya', 'Twain', 'Mark')].\n",
      "<2017-06-05 14:32:56>: <ApiCheckWikipedia>  Valid combinations: [('Mark',), ('Twain',), ('Mark', 'Twain')].\n",
      "<2017-06-05 14:32:56>: Generate all combinations for these tags. :\n",
      "    [('Mark',), ('Twain',), ('birthdaya',), ('Mark', 'Twain'), ('Mark', 'birthdaya'), ('Twain', 'birthdaya'), ('Mark', 'Twain', 'birthdaya')]\n",
      "<2017-06-05 14:33:04>: <ApiCheckBing> Found for combination: ('Mark',):\n",
      "   Web no. 1. WebTitle: Markiplier - YouTube\n",
      "   Url: www.youtube.com/user/markiplierGAME\n",
      "  Snippet: Welcome to Markiplier! Here you'll find some hilarious gaming videos, original comedy sketches, animated parodies, and other bits of entertainment! If this s...   Web no. 2. WebTitle: Mark - Wikipedia\n",
      "   Url: https://en.wikipedia.org/wiki/Mark\n",
      "  Snippet: Mark may refer to: Mark (name), a male given name; Mark (surname), notable people with the surname or family name   Web no. 3. WebTitle: mark. By Avon | AVON\n",
      "   Url: https://www.avon.com/category/mark\n",
      "  Snippet: Our mark brand is an expertly edited beauty and fashion boutique. Unexpected and fresh, mark gives every woman the opportunity to make her own mark.   Web no. 4. WebTitle: Mark 1 NIV - John the Baptist Prepares the Way - The ...\n",
      "   Url: https://www.biblegateway.com/passage/?search=Mark+1\n",
      "  Snippet: Mark 1 New International Version (NIV) John the Baptist Prepares the Way. 1 The beginning of the good news about Jesus the Messiah, the Son of God, 2 as it is written ...   Web no. 5. WebTitle: Mark | Define Mark at Dictionary.com\n",
      "   Url: www.dictionary.com/browse/mark\n",
      "  Snippet: Mark definition, a visible impression or trace on something, as a line, cut, dent, stain, or bruise: a small mark on his arm. See more.\n",
      "<2017-06-05 14:33:04>: <ApiCheckBing> Found for combination: ('Twain',):\n",
      "   Web no. 1. WebTitle: TWAIN Working Group\n",
      "   Url: www.twain.org\n",
      "  Snippet: The TWAIN Working Group is a not-for-profit organization which represents the imaging industry. TWAIN's purpose is to provide and foster a universal public standard ...   Web no. 2. WebTitle: Mark Twain - Wikipedia\n",
      "   Url: https://en.wikipedia.org/wiki/Mark_Twain\n",
      "  Snippet: Mark Twain was born Samuel Langhorne Clemens on November 30, 1835 in Florida, Missouri, the sixth of seven children born to Jane (née Lampton; 1803–1890 ...   Web no. 3. WebTitle: TWAIN - Wikipedia\n",
      "   Url: https://en.wikipedia.org/wiki/TWAIN\n",
      "  Snippet: TWAIN; Original author(s) TWAIN Working Group: Developer(s) TWAIN Working Group: Initial release: February 1992; 25 years ago () Stable release   Web no. 4. WebTitle: Twain | Definition of Twain by Merriam-Webster\n",
      "   Url: https://www.merriam-webster.com/dictionary/twain\n",
      "  Snippet: Define twain: two — twain in a sentence ... I like rap and my parents like country music, and never the twain shall meet in our house.   Web no. 5. WebTitle: Twain - definition of twain by The Free Dictionary\n",
      "   Url: www.thefreedictionary.com/twain\n",
      "  Snippet: twain (twān) n.adj. & pron. Two. [Middle English tweien, twaine, from Old English twēgen; see dwo- in Indo-European roots.] twain (tweɪn) determiner, n an archaic ...\n",
      "<2017-06-05 14:33:04>: <ApiCheckBing> Found for combination: ('birthdaya',):\n",
      "   Web no. 1. WebTitle: Birthday - Wikipedia\n",
      "   Url: https://en.wikipedia.org/wiki/Birthday\n",
      "  Snippet: A birthday is an occasion when a person or institution celebrates the anniversary of their birth. Birthdays are celebrated in numerous cultures, often with a gift ...   Web no. 2. WebTitle: Birthday Cards, Free Birthday eCards, Greeting Cards | 123 ...\n",
      "   Url: www.123greetings.com/birthday\n",
      "  Snippet: Birthday wishes definitely adds cheer on your friends' or loved ones' birthday. So go ahead and make their birthdays more special by sending our birthday wishes cards.   Web no. 3. WebTitle: BirthdayExpress.com - Official Site\n",
      "   Url: www.birthdayexpress.com\n",
      "  Snippet: Kids Birthday Party Supplies, Party Themes & Ideas. Kids Birthday Party Supplies from Birthday Express will be the perfect addition to your child's themed birthday party!   Web no. 4. WebTitle: Happy Birthday - 123 Greetings\n",
      "   Url: www.123greetings.com/birthday/happy_birthday\n",
      "  Snippet: Birthdays are never complete until you've sent happy birthday wishes to the birthday gal or boy! So go ahead and wish them a very happy birthday with our collection ...   Web no. 5. WebTitle: Famous Birthdays - Official Site\n",
      "   Url: www.famousbirthdays.com\n",
      "  Snippet: Find out today's birthdays and discover who shares your birthday. We make it simple and entertaining to learn about celebrities.\n",
      "<2017-06-05 14:33:04>: <ApiCheckBing> Found for combination: ('Mark', 'Twain'):\n",
      "   Web no. 1. WebTitle: Mark Twain - Wikipedia\n",
      "   Url: https://en.wikipedia.org/wiki/Mark_Twain\n",
      "  Snippet: Mark Twain was born Samuel Langhorne Clemens on November 30, 1835 in Florida, Missouri, the sixth of seven children born to Jane (née Lampton; 1803–1890 ...   Web no. 2. WebTitle: Mark Twain - Writer - Biography.com\n",
      "   Url: https://www.biography.com/people/mark-twain-9512564?_escaped...\n",
      "  Snippet: An adventurer and wily intellectual, Mark Twain wrote the classic American novels 'The Adventures of Tom Sawyer' and 'Adventures of Huckleberry Finn.'   Web no. 3. WebTitle: Mark Twain - Facts & Summary - HISTORY.com\n",
      "   Url: www.history.com/topics/mark-twain\n",
      "  Snippet: Find out more about the history of Mark Twain, including videos, interesting articles, pictures, historical features and more. Get all the facts on HISTORY.com   Web no. 4. WebTitle: The Official Web Site of Mark Twain\n",
      "   Url: cmgww.com/historic/twain\n",
      "  Snippet: The Official Web Site of Mark Twain includes a biography, a writings section, photographs, quotes, fast facts, downloads, a web store and more   Web no. 5. WebTitle: Mark Twain House - Official Site\n",
      "   Url: https://www.marktwainhouse.org\n",
      "  Snippet: NEW See the Mark Twain House & Museum from a whole new perspective... in 3D! For an added, one-of-a-kind experience, connect with Google Cardboard or a compatible ...\n",
      "<2017-06-05 14:33:04>: <ApiCheckBing> Found for combination: ('Mark', 'birthdaya'):\n",
      "   Web no. 1. WebTitle: Birthday Mark\n",
      "   Url: www.1happybirthday.com/HappyBirthday/Mark\n",
      "  Snippet: Personalized birthday song for Mark. This free original version by 1 Happy Birthday replaces the traditional Happy Birthday to you song and can be downloaded free as ...   Web no. 2. WebTitle: Birthday Party Ideas | Packages | The Mark | Omaha NE\n",
      "   Url: markomaha.com/birthday-party-packages\n",
      "  Snippet: Kids Birthday Parties Kids vote bowling birthday parties #1. When you’re looking for a birthday place in the Elkhorn / Omaha area, THE MARK is your   Web no. 3. WebTitle: Mt. Airy News | WPAQ to mark birthday with free concert\n",
      "   Url: mtairynews.com/news/47932/wpaq-to-mark-birthday-with-free-concert\n",
      "  Snippet: WPAQ to mark birthday with free ... The station specializing in traditional mountain music will mark the occasion of its 69th birthday in a manner true to ...   Web no. 4. WebTitle: U.S. To Mark 100th Birthday Of Slain President John Kennedy\n",
      "   Url: https://www.rferl.org/a/28514989.html\n",
      "  Snippet: Several events will be held in Hyannis, Massachusetts, to mark the 100th anniversary of the birth of President John F. Kennedy. Kennedy, who was ...   Web no. 5. WebTitle: Mark Twain - Wikipedia\n",
      "   Url: https://en.wikipedia.org/wiki/Mark_Twain\n",
      "  Snippet: Mark Twain was born Samuel Langhorne Clemens on November 30, 1835 in Florida, Missouri, the sixth of seven children born to Jane (née Lampton; 1803–1890 ...\n",
      "<2017-06-05 14:33:04>: <ApiCheckBing> Found for combination: ('Twain', 'birthdaya'):\n",
      "   Web no. 1. WebTitle: Mark Twain quotes: 10 favorites on his birthday - A recipe ...\n",
      "   Url: www.csmonitor.com/Books/2011/1129/Mark-Twain-quotes-10-favorites-on...\n",
      "  Snippet: 10 classic quotes from Mark Twain to celebrate his 176th birthday   Web no. 2. WebTitle: Mark Twain Quotes To Celebrate His Birthday | HuffPost\n",
      "   Url: www.huffingtonpost.com/2012/11/30/mark-twain-quotes_n_2213697.html\n",
      "  Snippet: Mark Twain Quotes To Celebrate His Birthday. ... \"The Huffington Post\" is a registered trademark of TheHuffingtonPost.com, Inc. All rights reserved.   Web no. 3. WebTitle: Mark Twain Birthday Quotes - Search Quotes\n",
      "   Url: www.searchquotes.com/search/Mark_Twain_Birthday\n",
      "  Snippet: Mark Twain Birthday quotes - 1. True irreverence is disrespect for another man's god Read more quotes and sayings about Mark Twain Birthday.   Web no. 4. WebTitle: Mark Twain's 176th Birthday - Google\n",
      "   Url: https://www.google.com/doodles/mark-twains-176th-birthday\n",
      "  Snippet: Mark Twain's 176th Birthday. A great writer and humorist, Mark Twain once said, \"Against the assault of laughter nothing can stand.\"   Web no. 5. WebTitle: Mark Twain - Wikipedia\n",
      "   Url: https://en.wikipedia.org/wiki/Mark_Twain\n",
      "  Snippet: McMasters' The Mark Twain Encyclopedia states that Twain did not wear a white suit in his last three years, except at one banquet speech.\n",
      "<2017-06-05 14:33:04>: <ApiCheckBing> Found for combination: ('Mark', 'Twain', 'birthdaya'):\n",
      "   Web no. 1. WebTitle: Mark Twain quotes: 10 favorites on his birthday - A recipe ...\n",
      "   Url: www.csmonitor.com/Books/2011/1129/Mark-Twain-quotes-10-favorites-on...\n",
      "  Snippet: 10 classic quotes from Mark Twain to celebrate his 176th birthday   Web no. 2. WebTitle: Mark Twain - Bio, Facts, Family | Famous Birthdays\n",
      "   Url: www.famousbirthdays.com/people/mark-twain.html\n",
      "  Snippet: Learn about Mark Twain: his birthday, what he did before fame, his family life, fun trivia facts, popularity rankings, and more.   Web no. 3. WebTitle: Mark Twain - Wikipedia\n",
      "   Url: https://en.wikipedia.org/wiki/Mark_Twain\n",
      "  Snippet: Mark Twain was born Samuel Langhorne Clemens on November 30, 1835 in Florida, Missouri, the sixth of seven children born to Jane (née Lampton; 1803–1890 ...   Web no. 4. WebTitle: Mark Twain - Writer - Biography.com\n",
      "   Url: https://www.biography.com/people/mark-twain-9512564\n",
      "  Snippet: An adventurer and wily intellectual, Mark Twain wrote the classic American novels 'The Adventures of Tom Sawyer' and 'Adventures of Huckleberry Finn.' “This is the ...   Web no. 5. WebTitle: Mark Twain Birthday Quotes - Search Quotes\n",
      "   Url: www.searchquotes.com/search/Mark_Twain_Birthday\n",
      "  Snippet: Mark Twain Birthday quotes - 1. True irreverence is disrespect for another man's god Read more quotes and sayings about Mark Twain Birthday.\n",
      "<2017-06-05 14:33:04>: Generate all combinations for these tags. :\n",
      "    [('Mark',), ('Twain',), ('birthdaya',), ('Mark', 'Twain'), ('Mark', 'birthdaya'), ('Twain', 'Mark'), ('Twain', 'birthdaya'), ('birthdaya', 'Mark'), ('birthdaya', 'Twain'), ('Mark', 'Twain', 'birthdaya'), ('Mark', 'birthdaya', 'Twain'), ('Twain', 'Mark', 'birthdaya'), ('Twain', 'birthdaya', 'Mark'), ('birthdaya', 'Mark', 'Twain'), ('birthdaya', 'Twain', 'Mark')]\n",
      "<2017-06-05 14:33:05>: <ApiCheckWikipedia> Found this text matching the pattern:\n",
      "DATA: 1880:\n",
      "\n",
      "<2017-06-05 14:33:05>: Generate all combinations for these tags. :\n",
      "    [('Mark',), ('Twain',), ('birthdaya',), ('Mark', 'Twain'), ('Mark', 'birthdaya'), ('Twain', 'birthdaya'), ('Mark', 'Twain', 'birthdaya')]\n",
      "<2017-06-05 14:33:05>: <ApiCheckBing> Found data(with repeated urls):\n",
      "DATA: 1880:\n",
      "  TAGS ('Mark',):\n",
      "      NO FOUND\n",
      "  TAGS ('Twain',):\n",
      "      NO FOUND\n",
      "  TAGS ('birthdaya',):\n",
      "      NO FOUND\n",
      "  TAGS ('Mark', 'Twain'):\n",
      "      NO FOUND\n",
      "  TAGS ('Mark', 'birthdaya'):\n",
      "      NO FOUND\n",
      "  TAGS ('Twain', 'birthdaya'):\n",
      "      NO FOUND\n",
      "  TAGS ('Mark', 'Twain', 'birthdaya'):\n",
      "      NO FOUND\n",
      "\n",
      "<2017-06-05 14:33:05>: <Class: Logger> Destructing.\n",
      "<2017-06-05 14:33:05>: Programme ended.\n",
      "\n"
     ]
    }
   ],
   "source": [
    "with open(\"./zad3Nigurasi.txt\", \"r\", encoding='utf-8') as f:\n",
    "    print(f.read())"
   ]
  },
  {
   "cell_type": "markdown",
   "metadata": {
    "collapsed": true
   },
   "source": [
    "Można także dodać do listy zaufanej :"
   ]
  },
  {
   "cell_type": "code",
   "execution_count": 5,
   "metadata": {
    "collapsed": false
   },
   "outputs": [
    {
     "name": "stdout",
     "output_type": "stream",
     "text": [
      "If you want to use this as normal program, just run Main.py\n",
      "Namespace(action='add_to_trusty', data='wikipedia', path_name='./zad3NigurasiAdd', type_data='text')\n",
      "Connection checked.\n",
      "The data wikipedia was added to ./Lists/TrustyList.txt.\n",
      "Destructor for Logger\n",
      "Everything wrote in logger.\n",
      "\n"
     ]
    }
   ],
   "source": [
    "zad3Nigurasi.get_information(\"add_to_trusty\", \"text\", \"wikipedia\", \"./zad3NigurasiAdd\")"
   ]
  },
  {
   "cell_type": "markdown",
   "metadata": {},
   "source": [
    "I następnie przeczytać czy się dodało:"
   ]
  },
  {
   "cell_type": "code",
   "execution_count": 6,
   "metadata": {
    "collapsed": false
   },
   "outputs": [
    {
     "name": "stdout",
     "output_type": "stream",
     "text": [
      "<2017-06-05 14:33:08>: Programme started with arguments:\n",
      "    action = add_to_trusty\n",
      "    typeData = text\n",
      "    data = wikipedia\n",
      "    pathFile = ./zad3NigurasiAdd\n",
      "<2017-06-05 14:33:08>: Connection checked.\n",
      "<2017-06-05 14:33:08>: Found the list with name: ./Lists/TrustyList.txt\n",
      "<2017-06-05 14:33:08>: Found the list with name: ./Lists/NotTrustyList.txt\n",
      "<2017-06-05 14:33:08>: The data wikipedia was added to ./Lists/TrustyList.txt.\n",
      "<2017-06-05 14:33:08>: <Class: Logger> Destructing.\n",
      "<2017-06-05 14:33:08>: Programme ended.\n",
      "\n"
     ]
    }
   ],
   "source": [
    "with open(\"./zad3NigurasiAdd.txt\", \"r\", encoding='utf-8') as f:\n",
    "    print(f.read())"
   ]
  },
  {
   "cell_type": "markdown",
   "metadata": {},
   "source": [
    "Następnie znowu uruchomić, żeby zobaczyć, czy uwzględnia tę listę:"
   ]
  },
  {
   "cell_type": "code",
   "execution_count": 7,
   "metadata": {
    "collapsed": false
   },
   "outputs": [
    {
     "name": "stdout",
     "output_type": "stream",
     "text": [
      "If you want to use this as normal program, just run Main.py\n",
      "Namespace(action='checkBoth', data='Mark Twain birthday = 30 November 1835', path_name='./zad3NigurasiWithList', type_data='equation')\n",
      "Connection checked.\n",
      "Destructor for Logger\n",
      "Everything wrote in logger.\n",
      "\n"
     ]
    }
   ],
   "source": [
    "zad3Nigurasi.get_information(\"checkBoth\", \"equation\", \"Mark Twain birthday = 30 November 1835\", \"./zad3NigurasiWithList\")"
   ]
  },
  {
   "cell_type": "code",
   "execution_count": 11,
   "metadata": {
    "collapsed": false
   },
   "outputs": [],
   "source": [
    "with open(\"./zad3NigurasiWithList.txt\", \"r\", encoding='utf-8') as f:\n",
    "    data = f.read()"
   ]
  },
  {
   "cell_type": "code",
   "execution_count": 12,
   "metadata": {
    "collapsed": false
   },
   "outputs": [
    {
     "data": {
      "text/plain": [
       "['<2017-06-05 14:35:28>: Programme started with arguments:',\n",
       " '    action = checkBoth',\n",
       " '    typeData = equation',\n",
       " '    data = Mark Twain birthday = 30 November 1835',\n",
       " '    pathFile = ./zad3NigurasiWithList',\n",
       " '<2017-06-05 14:35:28>: Connection checked.',\n",
       " '<2017-06-05 14:35:28>: Found the list with name: ./Lists/TrustyList.txt',\n",
       " '<2017-06-05 14:35:28>: Found the list with name: ./Lists/NotTrustyList.txt',\n",
       " '<2017-06-05 14:35:28>: Generate all combinations for these tags. :',\n",
       " \"    [('30',), ('November',), ('1835',), ('30', 'November'), ('30', '1835'), ('November', '1835'), ('30', 'November', '1835')]\",\n",
       " '<2017-06-05 14:35:28>: Generate all combinations for these tags. :',\n",
       " \"    [('Mark',), ('Twain',), ('birthday',), ('Mark', 'Twain'), ('Mark', 'birthday'), ('Twain', 'Mark'), ('Twain', 'birthday'), ('birthday', 'Mark'), ('birthday', 'Twain'), ('Mark', 'Twain', 'birthday'), ('Mark', 'birthday', 'Twain'), ('Twain', 'Mark', 'birthday'), ('Twain', 'birthday', 'Mark'), ('birthday', 'Mark', 'Twain'), ('birthday', 'Twain', 'Mark')]\",\n",
       " '<2017-06-05 14:35:29>: <ApiCheckWikipedia>  CHANGED FROM: Mark  TO: Mark ',\n",
       " 'TEXT: Mark may refer to:',\n",
       " 'Mark (name), a male given name',\n",
       " 'Mark (surname), notable people with the surname or family name',\n",
       " '<2017-06-05 14:35:29>: <ApiCheckWikipedia>  CHANGED FROM: Twain  TO: Twain ',\n",
       " 'TEXT: Twain may refer to:',\n",
       " '<2017-06-05 14:35:29>: <ApiCheckWikipedia>  CHANGED FROM: birthday  TO: Birthday ',\n",
       " 'TEXT: A birthday is an occasion when a person or institution celebrates the anniversary of their birth. Birthdays are celebrated in numerous cultures, often with a gift, party, or rite of passage.',\n",
       " \"Many religions celebrate the birth of their founders with special holidays (e.g. Christmas, Buddha's Birthday).\",\n",
       " 'There is a distinction between birthday and birthdate: The former, other than February 29, occurs each year (e.g. January 15), while the latter is the exact date a person was born (e.g., January 15, 2001).',\n",
       " '<2017-06-05 14:35:29>: <ApiCheckWikipedia>  CHANGED FROM: Mark Twain  TO: Mark Twain ',\n",
       " 'TEXT: Samuel Langhorne Clemens (November 30, 1835 – April 21, 1910), better known by his pen name Mark Twain, was an American writer, humorist, entrepreneur, publisher, and lecturer. Among his novels are The Adventures of Tom Sawyer (1876) and its sequel, the Adventures of Huckleberry Finn (1885), the latter often called \"The Great American Novel\".',\n",
       " 'Twain was raised in Hannibal, Missouri, which later provided the setting for Tom Sawyer and Huckleberry Finn. He served an apprenticeship with a printer and then worked as a typesetter, contributing articles to the newspaper of his older brother Orion Clemens. He later became a riverboat pilot on the Mississippi River before heading west to join Orion in Nevada. He referred humorously to his lack of success at mining, turning to journalism for the Virginia City Territorial Enterprise. His humorous story, \"The Celebrated Jumping Frog of Calaveras County\", was published in 1865, based on a story that he heard at Angels Hotel in Angels Camp, California where he had spent some time as a miner. The short story brought international attention and was even translated into classic Greek. His wit and satire, in prose and in speech, earned praise from critics and peers, and he was a friend to presidents, artists, industrialists, and European royalty.',\n",
       " 'Twain earned a great deal of money from his writings and lectures, but he invested in ventures that lost most of it—notably the Paige Compositor, a mechanical typesetter that failed because of its complexity and imprecision. He filed for bankruptcy in the wake of these financial setbacks, but he eventually overcame his financial troubles with the help of Henry Huttleston Rogers. He chose to pay all his pre-bankruptcy creditors in full, even after he had no legal responsibility to do so.',\n",
       " 'Twain was born shortly after an appearance of Halley\\'s Comet, and he predicted that he would \"go out with it\" as well; he died the day after the comet returned. He was lauded as the \"greatest American humorist of his age\", and William Faulkner called him \"the father of American literature\".',\n",
       " \"<2017-06-05 14:35:32>: <ApiCheckWikipedia>  Invalid combinations: [('Mark', 'birthday'), ('Twain', 'Mark'), ('Twain', 'birthday'), ('birthday', 'Mark'), ('birthday', 'Twain'), ('Mark', 'Twain', 'birthday'), ('Mark', 'birthday', 'Twain'), ('Twain', 'Mark', 'birthday'), ('Twain', 'birthday', 'Mark'), ('birthday', 'Mark', 'Twain'), ('birthday', 'Twain', 'Mark')].\",\n",
       " \"<2017-06-05 14:35:32>: <ApiCheckWikipedia>  Valid combinations: [('Mark',), ('Twain',), ('birthday',), ('Mark', 'Twain')].\",\n",
       " '<2017-06-05 14:35:32>: Generate all combinations for these tags. :',\n",
       " \"    [('Mark',), ('Twain',), ('birthday',), ('Mark', 'Twain'), ('Mark', 'birthday'), ('Twain', 'birthday'), ('Mark', 'Twain', 'birthday')]\",\n",
       " \"<2017-06-05 14:35:39>: <ApiCheckBing> Found for combination: ('Mark',):\",\n",
       " '   Web no. 1. WebTitle: Markiplier - YouTube',\n",
       " '   Url: www.youtube.com/user/markiplierGAME',\n",
       " \"  Snippet: Welcome to Markiplier! Here you'll find some hilarious gaming videos, original comedy sketches, animated parodies, and other bits of entertainment! If this s...   Web no. 2. WebTitle: Mark - Wikipedia\",\n",
       " '   Url: https://en.wikipedia.org/wiki/Mark',\n",
       " '  Snippet: Mark may refer to: Mark (name), a male given name; Mark (surname), notable people with the surname or family name   Web no. 3. WebTitle: mark. By Avon | AVON',\n",
       " '   Url: https://www.avon.com/category/mark',\n",
       " '  Snippet: Our mark brand is an expertly edited beauty and fashion boutique. Unexpected and fresh, mark gives every woman the opportunity to make her own mark.   Web no. 4. WebTitle: Mark 1 NIV - John the Baptist Prepares the Way - The ...',\n",
       " '   Url: https://www.biblegateway.com/passage/?search=Mark+1',\n",
       " '  Snippet: Mark 1 New International Version (NIV) John the Baptist Prepares the Way. 1 The beginning of the good news about Jesus the Messiah, the Son of God, 2 as it is written ...   Web no. 5. WebTitle: Mark | Define Mark at Dictionary.com',\n",
       " '   Url: www.dictionary.com/browse/mark',\n",
       " '  Snippet: Mark definition, a visible impression or trace on something, as a line, cut, dent, stain, or bruise: a small mark on his arm. See more.',\n",
       " \"<2017-06-05 14:35:39>: <ApiCheckBing> Found for combination: ('Twain',):\",\n",
       " '   Web no. 1. WebTitle: TWAIN Working Group',\n",
       " '   Url: www.twain.org',\n",
       " \"  Snippet: The TWAIN Working Group is a not-for-profit organization which represents the imaging industry. TWAIN's purpose is to provide and foster a universal public standard ...   Web no. 2. WebTitle: Mark Twain - Wikipedia\",\n",
       " '   Url: https://en.wikipedia.org/wiki/Mark_Twain',\n",
       " '  Snippet: Mark Twain was born Samuel Langhorne Clemens on November 30, 1835 in Florida, Missouri, the sixth of seven children born to Jane (née Lampton; 1803–1890 ...   Web no. 3. WebTitle: TWAIN - Wikipedia',\n",
       " '   Url: https://en.wikipedia.org/wiki/TWAIN',\n",
       " '  Snippet: TWAIN; Original author(s) TWAIN Working Group: Developer(s) TWAIN Working Group: Initial release: February 1992; 25 years ago () Stable release   Web no. 4. WebTitle: Shania Twain - Official Site',\n",
       " '   Url: www.shaniatwain.com',\n",
       " '  Snippet: Official website offers a biography, news, photos, audio and video samples, tour dates and merchandise.   Web no. 5. WebTitle: Mark Twain Quotes - BrainyQuote',\n",
       " '   Url: www.brainyquote.com/quotes/authors/m/mark_twain',\n",
       " '  Snippet: Enjoy the best Mark Twain Quotes at BrainyQuote. Quotations by Mark Twain, American Author, Born November 30, 1835. Share with your friends.',\n",
       " \"<2017-06-05 14:35:39>: <ApiCheckBing> Found for combination: ('birthday',):\",\n",
       " '   Web no. 1. WebTitle: Birthday - Wikipedia',\n",
       " '   Url: https://en.wikipedia.org/wiki/Birthday',\n",
       " '  Snippet: A birthday is an occasion when a person or institution celebrates the anniversary of their birth. Birthdays are celebrated in numerous cultures, often with a gift ...   Web no. 2. WebTitle: Birthday Cards, Free Birthday eCards, Greeting Cards | 123 ...',\n",
       " '   Url: www.123greetings.com/birthday',\n",
       " \"  Snippet: Birthday wishes definitely adds cheer on your friends' or loved ones' birthday. So go ahead and make their birthdays more special by sending our birthday wishes cards.   Web no. 3. WebTitle: Famous Birthdays - Official Site\",\n",
       " '   Url: www.famousbirthdays.com',\n",
       " \"  Snippet: Find out today's birthdays and discover who shares your birthday. We make it simple and entertaining to learn about celebrities.   Web no. 4. WebTitle: Birthday Messages and Birthday Wishes\",\n",
       " '   Url: www.1happybirthday.com/birthday_messages.php',\n",
       " '  Snippet: More than 500 original birthday messages, birthday wishes, and a free birthday song with your name - include them in your birthday cards and birthday ecards.   Web no. 5. WebTitle: BirthdayExpress.com - Official Site',\n",
       " '   Url: www.birthdayexpress.com',\n",
       " \"  Snippet: Kids Birthday Party Supplies, Party Themes & Ideas. Kids Birthday Party Supplies from Birthday Express will be the perfect addition to your child's themed birthday party!\",\n",
       " \"<2017-06-05 14:35:39>: <ApiCheckBing> Found for combination: ('Mark', 'Twain'):\",\n",
       " '   Web no. 1. WebTitle: Mark Twain - Wikipedia',\n",
       " '   Url: https://en.wikipedia.org/wiki/Mark_Twain',\n",
       " '  Snippet: Mark Twain was born Samuel Langhorne Clemens on November 30, 1835 in Florida, Missouri, the sixth of seven children born to Jane (née Lampton; 1803–1890 ...   Web no. 2. WebTitle: Mark Twain - Writer - Biography.com',\n",
       " '   Url: https://www.biography.com/people/mark-twain-9512564?_escaped...',\n",
       " \"  Snippet: An adventurer and wily intellectual, Mark Twain wrote the classic American novels 'The Adventures of Tom Sawyer' and 'Adventures of Huckleberry Finn.'   Web no. 3. WebTitle: Mark Twain - Facts & Summary - HISTORY.com\",\n",
       " '   Url: www.history.com/topics/mark-twain',\n",
       " '  Snippet: Find out more about the history of Mark Twain, including videos, interesting articles, pictures, historical features and more. Get all the facts on HISTORY.com   Web no. 4. WebTitle: The Official Web Site of Mark Twain',\n",
       " '   Url: cmgww.com/historic/twain',\n",
       " '  Snippet: The Official Web Site of Mark Twain includes a biography, a writings section, photographs, quotes, fast facts, downloads, a web store and more   Web no. 5. WebTitle: Mark Twain House - Official Site',\n",
       " '   Url: https://www.marktwainhouse.org',\n",
       " '  Snippet: NEW See the Mark Twain House & Museum from a whole new perspective... in 3D! For an added, one-of-a-kind experience, connect with Google Cardboard or a compatible ...',\n",
       " \"<2017-06-05 14:35:39>: <ApiCheckBing> Found for combination: ('Mark', 'birthday'):\",\n",
       " '   Web no. 1. WebTitle: Birthday Mark',\n",
       " '   Url: www.1happybirthday.com/HappyBirthday/Mark',\n",
       " '  Snippet: Personalized birthday song for Mark. This free original version by 1 Happy Birthday replaces the traditional Happy Birthday to you song and can be downloaded free as ...   Web no. 2. WebTitle: Birthday Party Ideas | Packages | The Mark | Omaha NE',\n",
       " '   Url: markomaha.com/birthday-party-packages',\n",
       " '  Snippet: Kids Birthday Parties Kids vote bowling birthday parties #1. When you’re looking for a birthday place in the Elkhorn / Omaha area, THE MARK is your   Web no. 3. WebTitle: Mt. Airy News | WPAQ to mark birthday with free concert',\n",
       " '   Url: mtairynews.com/news/47932/wpaq-to-mark-birthday-with-free-concert',\n",
       " '  Snippet: WPAQ to mark birthday with free ... The station specializing in traditional mountain music will mark the occasion of its 69th birthday in a manner true to its ...   Web no. 4. WebTitle: Birthday Cards | BDay Cards | Hallmark',\n",
       " '   Url: www.hallmark.com/birthday/birthday-cards',\n",
       " '  Snippet: Send the latest and greatest birthday cards from Hallmark. Say Happy Birthday with bday cards ranging from funny to heartfelt, plus milestone birthdays cards.   Web no. 5. WebTitle: HAPPY BIRTHDAY MARK! - EPIC Happy Birthday Song - YouTube',\n",
       " '   Url: www.youtube.com/watch?v=DXfs8qymvCc',\n",
       " '  Snippet: HAPPY BIRTHDAY MARK!!! The most epic happy birthday song for Mark. Wish the Marks of the world an epic happy birthday …',\n",
       " \"<2017-06-05 14:35:39>: <ApiCheckBing> Found for combination: ('Twain', 'birthday'):\",\n",
       " '   Web no. 1. WebTitle: Mark Twain quotes: 10 favorites on his birthday - A recipe ...',\n",
       " '   Url: www.csmonitor.com/Books/2011/1129/Mark-Twain-quotes-10-favorites-on...',\n",
       " '  Snippet: 10 classic quotes from Mark Twain to celebrate his 176th birthday   Web no. 2. WebTitle: Mark Twain - Wikipedia',\n",
       " '   Url: https://en.wikipedia.org/wiki/Mark_Twain',\n",
       " '  Snippet: Mark Twain was born Samuel Langhorne Clemens on November 30, 1835 in Florida, Missouri, the sixth of seven children born to Jane (née Lampton; 1803–1890 ...   Web no. 3. WebTitle: Mark Twain - Bio, Facts, Family | Famous Birthdays',\n",
       " '   Url: www.famousbirthdays.com/people/mark-twain.html',\n",
       " '  Snippet: Learn about Mark Twain: his birthday, what he did before fame, his family life, fun trivia facts, popularity rankings, and more.   Web no. 4. WebTitle: Shania Twain Celebrates Birthday With Big Album News',\n",
       " '   Url: www.inquisitr.com/925788/shania-twain-celebrates-birthday-with-big...',\n",
       " '  Snippet: Shania Twain is celebrating her 48th birthday today and the country star is hoping for one special gift: A producer for her new album. The country singer told Rolling ...   Web no. 5. WebTitle: Mark Twain Quotes To Celebrate His Birthday | HuffPost',\n",
       " '   Url: www.huffingtonpost.com/2012/11/30/mark-twain-quotes_n_2213697.html',\n",
       " '  Snippet: Mark Twain Quotes To Celebrate His Birthday. ... \"The Huffington Post\" is a registered trademark of TheHuffingtonPost.com, Inc. All rights reserved.',\n",
       " \"<2017-06-05 14:35:39>: <ApiCheckBing> Found for combination: ('Mark', 'Twain', 'birthday'):\",\n",
       " '   Web no. 1. WebTitle: Mark Twain quotes: 10 favorites on his birthday - A recipe ...',\n",
       " '   Url: www.csmonitor.com/Books/2011/1129/Mark-Twain-quotes-10-favorites-on...',\n",
       " '  Snippet: 10 classic quotes from Mark Twain to celebrate his 176th birthday   Web no. 2. WebTitle: Mark Twain - Bio, Facts, Family | Famous Birthdays',\n",
       " '   Url: www.famousbirthdays.com/people/mark-twain.html',\n",
       " '  Snippet: Learn about Mark Twain: his birthday, what he did before fame, his family life, fun trivia facts, popularity rankings, and more.   Web no. 3. WebTitle: Mark Twain - Wikipedia',\n",
       " '   Url: https://en.wikipedia.org/wiki/Mark_Twain',\n",
       " '  Snippet: Mark Twain was born Samuel Langhorne Clemens on November 30, 1835 in Florida, Missouri, the sixth of seven children born to Jane (née Lampton; 1803–1890 ...   Web no. 4. WebTitle: Mark Twain - Writer - Biography.com',\n",
       " '   Url: https://www.biography.com/people/mark-twain-9512564',\n",
       " '  Snippet: Synopsis. Born on November 30, 1835, in Florida, Missouri, Samuel L. Clemens wrote under the pen name Mark Twain and went on to author several novels, including two ...   Web no. 5. WebTitle: Mark Twain Quotes To Celebrate His Birthday | HuffPost',\n",
       " '   Url: www.huffingtonpost.com/2012/11/30/mark-twain-quotes_n_2213697.html',\n",
       " '  Snippet: Mark Twain Quotes To Celebrate His Birthday. ... Book News Mark Twain Quotes Mark Twain Birthday Quotes Mark ... \"The Huffington Post\" is a registered ...',\n",
       " '<2017-06-05 14:35:39>: Generate all combinations for these tags. :',\n",
       " \"    [('Mark',), ('Twain',), ('birthday',), ('Mark', 'Twain'), ('Mark', 'birthday'), ('Twain', 'Mark'), ('Twain', 'birthday'), ('birthday', 'Mark'), ('birthday', 'Twain'), ('Mark', 'Twain', 'birthday'), ('Mark', 'birthday', 'Twain'), ('Twain', 'Mark', 'birthday'), ('Twain', 'birthday', 'Mark'), ('birthday', 'Mark', 'Twain'), ('birthday', 'Twain', 'Mark')]\",\n",
       " '<2017-06-05 14:35:40>: <ApiCheckWikipedia> Found this text matching the pattern:',\n",
       " 'DATA: 30:',\n",
       " \"TAGS ('Mark', 'Twain'):\",\n",
       " '    Samuel Langhorne Clemens (November 30, 1835 – April 21, 1910), better known by his pen name Mark Twain, was an American writer, humorist, entrepreneur, publisher, and lecturer.',\n",
       " 'DATA: NOVEMBER:',\n",
       " \"TAGS ('Mark', 'Twain'):\",\n",
       " '    Samuel Langhorne Clemens (November 30, 1835 – April 21, 1910), better known by his pen name Mark Twain, was an American writer, humorist, entrepreneur, publisher, and lecturer.',\n",
       " 'DATA: 1835:',\n",
       " \"TAGS ('Mark', 'Twain'):\",\n",
       " '    Samuel Langhorne Clemens (November 30, 1835 – April 21, 1910), better known by his pen name Mark Twain, was an American writer, humorist, entrepreneur, publisher, and lecturer.',\n",
       " 'DATA: 30 NOVEMBER:',\n",
       " 'DATA: 30 1835:',\n",
       " 'DATA: NOVEMBER 1835:',\n",
       " 'DATA: 30 NOVEMBER 1835:',\n",
       " '',\n",
       " '<2017-06-05 14:35:40>: Generate all combinations for these tags. :',\n",
       " \"    [('Mark',), ('Twain',), ('birthday',), ('Mark', 'Twain'), ('Mark', 'birthday'), ('Twain', 'birthday'), ('Mark', 'Twain', 'birthday')]\",\n",
       " '<2017-06-05 14:35:40>: <ApiCheckBing> Found data(with repeated urls):',\n",
       " 'DATA: 30:',\n",
       " \"  TAGS ('Mark',):\",\n",
       " '      NO FOUND',\n",
       " \"  TAGS ('Twain',):\",\n",
       " '[TRUSTY]      WebName: Mark Twain - Wikipedia',\n",
       " '      Url: https://en.wikipedia.org/wiki/Mark_Twain',\n",
       " '      Snippet: Mark Twain was born Samuel Langhorne Clemens on November 30, 1835 in Florida, Missouri, the sixth of seven children born to Jane (née Lampton; 1803–1890 ...',\n",
       " '      WebName: Mark Twain Quotes - BrainyQuote',\n",
       " '      Url: www.brainyquote.com/quotes/authors/m/mark_twain',\n",
       " '      Snippet: Enjoy the best Mark Twain Quotes at BrainyQuote. Quotations by Mark Twain, American Author, Born November 30, 1835. Share with your friends.',\n",
       " \"  TAGS ('birthday',):\",\n",
       " '      NO FOUND',\n",
       " \"  TAGS ('Mark', 'Twain'):\",\n",
       " '[TRUSTY]      WebName: Mark Twain - Wikipedia',\n",
       " '      Url: https://en.wikipedia.org/wiki/Mark_Twain',\n",
       " '      Snippet: Mark Twain was born Samuel Langhorne Clemens on November 30, 1835 in Florida, Missouri, the sixth of seven children born to Jane (née Lampton; 1803–1890 ...',\n",
       " \"  TAGS ('Mark', 'birthday'):\",\n",
       " '      NO FOUND',\n",
       " \"  TAGS ('Twain', 'birthday'):\",\n",
       " '[TRUSTY]      WebName: Mark Twain - Wikipedia',\n",
       " '      Url: https://en.wikipedia.org/wiki/Mark_Twain',\n",
       " '      Snippet: Mark Twain was born Samuel Langhorne Clemens on November 30, 1835 in Florida, Missouri, the sixth of seven children born to Jane (née Lampton; 1803–1890 ...',\n",
       " \"  TAGS ('Mark', 'Twain', 'birthday'):\",\n",
       " '[TRUSTY]      WebName: Mark Twain - Wikipedia',\n",
       " '      Url: https://en.wikipedia.org/wiki/Mark_Twain',\n",
       " '      Snippet: Mark Twain was born Samuel Langhorne Clemens on November 30, 1835 in Florida, Missouri, the sixth of seven children born to Jane (née Lampton; 1803–1890 ...',\n",
       " '      WebName: Mark Twain - Writer - Biography.com',\n",
       " '      Url: https://www.biography.com/people/mark-twain-9512564',\n",
       " '      Snippet: Synopsis. Born on November 30, 1835, in Florida, Missouri, Samuel L. Clemens wrote under the pen name Mark Twain and went on to author several novels, including two ...',\n",
       " 'DATA: November:',\n",
       " \"  TAGS ('Mark',):\",\n",
       " '      NO FOUND',\n",
       " \"  TAGS ('Twain',):\",\n",
       " '[TRUSTY]      WebName: Mark Twain - Wikipedia',\n",
       " '      Url: https://en.wikipedia.org/wiki/Mark_Twain',\n",
       " '      Snippet: Mark Twain was born Samuel Langhorne Clemens on November 30, 1835 in Florida, Missouri, the sixth of seven children born to Jane (née Lampton; 1803–1890 ...',\n",
       " '      WebName: Mark Twain Quotes - BrainyQuote',\n",
       " '      Url: www.brainyquote.com/quotes/authors/m/mark_twain',\n",
       " '      Snippet: Enjoy the best Mark Twain Quotes at BrainyQuote. Quotations by Mark Twain, American Author, Born November 30, 1835. Share with your friends.',\n",
       " \"  TAGS ('birthday',):\",\n",
       " '      NO FOUND',\n",
       " \"  TAGS ('Mark', 'Twain'):\",\n",
       " '[TRUSTY]      WebName: Mark Twain - Wikipedia',\n",
       " '      Url: https://en.wikipedia.org/wiki/Mark_Twain',\n",
       " '      Snippet: Mark Twain was born Samuel Langhorne Clemens on November 30, 1835 in Florida, Missouri, the sixth of seven children born to Jane (née Lampton; 1803–1890 ...',\n",
       " \"  TAGS ('Mark', 'birthday'):\",\n",
       " '      NO FOUND',\n",
       " \"  TAGS ('Twain', 'birthday'):\",\n",
       " '[TRUSTY]      WebName: Mark Twain - Wikipedia',\n",
       " '      Url: https://en.wikipedia.org/wiki/Mark_Twain',\n",
       " '      Snippet: Mark Twain was born Samuel Langhorne Clemens on November 30, 1835 in Florida, Missouri, the sixth of seven children born to Jane (née Lampton; 1803–1890 ...',\n",
       " \"  TAGS ('Mark', 'Twain', 'birthday'):\",\n",
       " '[TRUSTY]      WebName: Mark Twain - Wikipedia',\n",
       " '      Url: https://en.wikipedia.org/wiki/Mark_Twain',\n",
       " '      Snippet: Mark Twain was born Samuel Langhorne Clemens on November 30, 1835 in Florida, Missouri, the sixth of seven children born to Jane (née Lampton; 1803–1890 ...',\n",
       " '      WebName: Mark Twain - Writer - Biography.com',\n",
       " '      Url: https://www.biography.com/people/mark-twain-9512564',\n",
       " '      Snippet: Synopsis. Born on November 30, 1835, in Florida, Missouri, Samuel L. Clemens wrote under the pen name Mark Twain and went on to author several novels, including two ...',\n",
       " 'DATA: 1835:',\n",
       " \"  TAGS ('Mark',):\",\n",
       " '      NO FOUND',\n",
       " \"  TAGS ('Twain',):\",\n",
       " '[TRUSTY]      WebName: Mark Twain - Wikipedia',\n",
       " '      Url: https://en.wikipedia.org/wiki/Mark_Twain',\n",
       " '      Snippet: Mark Twain was born Samuel Langhorne Clemens on November 30, 1835 in Florida, Missouri, the sixth of seven children born to Jane (née Lampton; 1803–1890 ...',\n",
       " '      WebName: Mark Twain Quotes - BrainyQuote',\n",
       " '      Url: www.brainyquote.com/quotes/authors/m/mark_twain',\n",
       " '      Snippet: Enjoy the best Mark Twain Quotes at BrainyQuote. Quotations by Mark Twain, American Author, Born November 30, 1835. Share with your friends.',\n",
       " \"  TAGS ('birthday',):\",\n",
       " '      NO FOUND',\n",
       " \"  TAGS ('Mark', 'Twain'):\",\n",
       " '[TRUSTY]      WebName: Mark Twain - Wikipedia',\n",
       " '      Url: https://en.wikipedia.org/wiki/Mark_Twain',\n",
       " '      Snippet: Mark Twain was born Samuel Langhorne Clemens on November 30, 1835 in Florida, Missouri, the sixth of seven children born to Jane (née Lampton; 1803–1890 ...',\n",
       " \"  TAGS ('Mark', 'birthday'):\",\n",
       " '      NO FOUND',\n",
       " \"  TAGS ('Twain', 'birthday'):\",\n",
       " '[TRUSTY]      WebName: Mark Twain - Wikipedia',\n",
       " '      Url: https://en.wikipedia.org/wiki/Mark_Twain',\n",
       " '      Snippet: Mark Twain was born Samuel Langhorne Clemens on November 30, 1835 in Florida, Missouri, the sixth of seven children born to Jane (née Lampton; 1803–1890 ...',\n",
       " \"  TAGS ('Mark', 'Twain', 'birthday'):\",\n",
       " '[TRUSTY]      WebName: Mark Twain - Wikipedia',\n",
       " '      Url: https://en.wikipedia.org/wiki/Mark_Twain',\n",
       " '      Snippet: Mark Twain was born Samuel Langhorne Clemens on November 30, 1835 in Florida, Missouri, the sixth of seven children born to Jane (née Lampton; 1803–1890 ...',\n",
       " '      WebName: Mark Twain - Writer - Biography.com',\n",
       " '      Url: https://www.biography.com/people/mark-twain-9512564',\n",
       " '      Snippet: Synopsis. Born on November 30, 1835, in Florida, Missouri, Samuel L. Clemens wrote under the pen name Mark Twain and went on to author several novels, including two ...',\n",
       " 'DATA: 30 November:',\n",
       " \"  TAGS ('Mark',):\",\n",
       " '      NO FOUND',\n",
       " \"  TAGS ('Twain',):\",\n",
       " '      NO FOUND',\n",
       " \"  TAGS ('birthday',):\",\n",
       " '      NO FOUND',\n",
       " \"  TAGS ('Mark', 'Twain'):\",\n",
       " '      NO FOUND',\n",
       " \"  TAGS ('Mark', 'birthday'):\",\n",
       " '      NO FOUND',\n",
       " \"  TAGS ('Twain', 'birthday'):\",\n",
       " '      NO FOUND',\n",
       " \"  TAGS ('Mark', 'Twain', 'birthday'):\",\n",
       " '      NO FOUND',\n",
       " 'DATA: 30 1835:',\n",
       " \"  TAGS ('Mark',):\",\n",
       " '      NO FOUND',\n",
       " \"  TAGS ('Twain',):\",\n",
       " '      NO FOUND',\n",
       " \"  TAGS ('birthday',):\",\n",
       " '      NO FOUND',\n",
       " \"  TAGS ('Mark', 'Twain'):\",\n",
       " '      NO FOUND',\n",
       " \"  TAGS ('Mark', 'birthday'):\",\n",
       " '      NO FOUND',\n",
       " \"  TAGS ('Twain', 'birthday'):\",\n",
       " '      NO FOUND',\n",
       " \"  TAGS ('Mark', 'Twain', 'birthday'):\",\n",
       " '      NO FOUND',\n",
       " 'DATA: November 1835:',\n",
       " \"  TAGS ('Mark',):\",\n",
       " '      NO FOUND',\n",
       " \"  TAGS ('Twain',):\",\n",
       " '      NO FOUND',\n",
       " \"  TAGS ('birthday',):\",\n",
       " '      NO FOUND',\n",
       " \"  TAGS ('Mark', 'Twain'):\",\n",
       " '      NO FOUND',\n",
       " \"  TAGS ('Mark', 'birthday'):\",\n",
       " '      NO FOUND',\n",
       " \"  TAGS ('Twain', 'birthday'):\",\n",
       " '      NO FOUND',\n",
       " \"  TAGS ('Mark', 'Twain', 'birthday'):\",\n",
       " '      NO FOUND',\n",
       " 'DATA: 30 November 1835:',\n",
       " \"  TAGS ('Mark',):\",\n",
       " '      NO FOUND',\n",
       " \"  TAGS ('Twain',):\",\n",
       " '      NO FOUND',\n",
       " \"  TAGS ('birthday',):\",\n",
       " '      NO FOUND',\n",
       " \"  TAGS ('Mark', 'Twain'):\",\n",
       " '      NO FOUND',\n",
       " \"  TAGS ('Mark', 'birthday'):\",\n",
       " '      NO FOUND',\n",
       " \"  TAGS ('Twain', 'birthday'):\",\n",
       " '      NO FOUND',\n",
       " \"  TAGS ('Mark', 'Twain', 'birthday'):\",\n",
       " '      NO FOUND',\n",
       " '',\n",
       " '<2017-06-05 14:35:40>: <Class: Logger> Destructing.',\n",
       " '<2017-06-05 14:35:40>: Programme ended.',\n",
       " '']"
      ]
     },
     "execution_count": 12,
     "metadata": {},
     "output_type": "execute_result"
    }
   ],
   "source": [
    "lines = data.split(\"\\n\")\n",
    "lines"
   ]
  },
  {
   "cell_type": "code",
   "execution_count": 16,
   "metadata": {
    "collapsed": false
   },
   "outputs": [
    {
     "name": "stdout",
     "output_type": "stream",
     "text": [
      "[TRUSTY]      WebName: Mark Twain - Wikipedia\n",
      "      Url: https://en.wikipedia.org/wiki/Mark_Twain\n",
      "[TRUSTY]      WebName: Mark Twain - Wikipedia\n",
      "      Url: https://en.wikipedia.org/wiki/Mark_Twain\n",
      "[TRUSTY]      WebName: Mark Twain - Wikipedia\n",
      "      Url: https://en.wikipedia.org/wiki/Mark_Twain\n",
      "[TRUSTY]      WebName: Mark Twain - Wikipedia\n",
      "      Url: https://en.wikipedia.org/wiki/Mark_Twain\n",
      "[TRUSTY]      WebName: Mark Twain - Wikipedia\n",
      "      Url: https://en.wikipedia.org/wiki/Mark_Twain\n",
      "[TRUSTY]      WebName: Mark Twain - Wikipedia\n",
      "      Url: https://en.wikipedia.org/wiki/Mark_Twain\n",
      "[TRUSTY]      WebName: Mark Twain - Wikipedia\n",
      "      Url: https://en.wikipedia.org/wiki/Mark_Twain\n",
      "[TRUSTY]      WebName: Mark Twain - Wikipedia\n",
      "      Url: https://en.wikipedia.org/wiki/Mark_Twain\n",
      "[TRUSTY]      WebName: Mark Twain - Wikipedia\n",
      "      Url: https://en.wikipedia.org/wiki/Mark_Twain\n",
      "[TRUSTY]      WebName: Mark Twain - Wikipedia\n",
      "      Url: https://en.wikipedia.org/wiki/Mark_Twain\n",
      "[TRUSTY]      WebName: Mark Twain - Wikipedia\n",
      "      Url: https://en.wikipedia.org/wiki/Mark_Twain\n",
      "[TRUSTY]      WebName: Mark Twain - Wikipedia\n",
      "      Url: https://en.wikipedia.org/wiki/Mark_Twain\n"
     ]
    }
   ],
   "source": [
    "trustyLines = []\n",
    "for i, line in enumerate(lines):\n",
    "    if \"[TRUSTY]\" in line:\n",
    "        trustyLines.append((line, lines[i+1]))\n",
    "        print(line)\n",
    "        print(lines[i+1])"
   ]
  },
  {
   "cell_type": "markdown",
   "metadata": {},
   "source": [
    "Najpewniej mamy powtórzenia, więc możemy je wyeliminować:"
   ]
  },
  {
   "cell_type": "code",
   "execution_count": 17,
   "metadata": {
    "collapsed": false
   },
   "outputs": [
    {
     "data": {
      "text/plain": [
       "[('[TRUSTY]      WebName: Mark Twain - Wikipedia',\n",
       "  '      Url: https://en.wikipedia.org/wiki/Mark_Twain')]"
      ]
     },
     "execution_count": 17,
     "metadata": {},
     "output_type": "execute_result"
    }
   ],
   "source": [
    "notRepeatedLines = []\n",
    "for line in trustyLines:\n",
    "    ifFound = 0\n",
    "    for rLine in notRepeatedLines:\n",
    "        if rLine[0] == line[0]:\n",
    "            ifFound = 1\n",
    "    if ifFound == 0:\n",
    "        notRepeatedLines.append(line)\n",
    "        \n",
    "notRepeatedLines"
   ]
  },
  {
   "cell_type": "code",
   "execution_count": null,
   "metadata": {
    "collapsed": true
   },
   "outputs": [],
   "source": []
  }
 ],
 "metadata": {
  "kernelspec": {
   "display_name": "Python 3",
   "language": "python",
   "name": "python3"
  },
  "language_info": {
   "codemirror_mode": {
    "name": "ipython",
    "version": 3
   },
   "file_extension": ".py",
   "mimetype": "text/x-python",
   "name": "python",
   "nbconvert_exporter": "python",
   "pygments_lexer": "ipython3",
   "version": "3.6.0"
  }
 },
 "nbformat": 4,
 "nbformat_minor": 2
}
